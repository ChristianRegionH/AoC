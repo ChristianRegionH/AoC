{
 "cells": [
  {
   "cell_type": "code",
   "execution_count": 26,
   "metadata": {},
   "outputs": [],
   "source": [
    "# Imports\n",
    "from collections import defaultdict"
   ]
  },
  {
   "cell_type": "code",
   "execution_count": 27,
   "metadata": {},
   "outputs": [],
   "source": [
    "# Day 1\n",
    "with open(\"input_01.txt\") as f:\n",
    "    data = f.read().splitlines()\n",
    "\n",
    "instructions = data[0].split(\", \")\n",
    "directions = [(0, 1), (1, 0), (0, -1), (-1, 0)]\n",
    "visited = {(0, 0)}\n",
    "position = ((0, 1), (0, 0))\n",
    "answer0102 = None\n",
    "\n",
    "for instruction in instructions:\n",
    "    turn = instruction[0]\n",
    "    steps = int(instruction[1:])\n",
    "    current_direction = position[0]\n",
    "    \n",
    "    new_direction = directions[(directions.index(current_direction) + (1 if turn == 'R' else -1)) % 4]\n",
    "    for step in range(steps):\n",
    "        position = (new_direction, (position[1][0] + new_direction[0], position[1][1] + new_direction[1]))\n",
    "        if position[1] in visited and answer0102 is None:\n",
    "            answer0102 = abs(position[1][0]) + abs(position[1][1])\n",
    "        visited.add(position[1])\n",
    "\n",
    "answer0101 = abs(position[1][0]) + abs(position[1][1])"
   ]
  },
  {
   "cell_type": "code",
   "execution_count": 28,
   "metadata": {},
   "outputs": [],
   "source": [
    "# Day 2\n",
    "with open(\"input_02.txt\") as f:\n",
    "    data = f.read().splitlines()\n",
    "\n",
    "# (r, c)\n",
    "small_keypad = {\n",
    "    (0, 0): '1',\n",
    "    (0, 1): '2',\n",
    "    (0, 2): '3',\n",
    "    (1, 0): '4',\n",
    "    (1, 1): '5',\n",
    "    (1, 2): '6',\n",
    "    (2, 0): '7',\n",
    "    (2, 1): '8',\n",
    "    (2, 2): '9' \n",
    "}\n",
    "\n",
    "big_keypad = {\n",
    "    (0, 2): '1',\n",
    "    (1, 1): '2',\n",
    "    (1, 2): '3',\n",
    "    (1, 3): '4',\n",
    "    (2, 0): '5',\n",
    "    (2, 1): '6',\n",
    "    (2, 2): '7',\n",
    "    (2, 3): '8',\n",
    "    (2, 4): '9',\n",
    "    (3, 1): 'A',\n",
    "    (3, 2): 'B',\n",
    "    (3, 3): 'C',\n",
    "    (4, 2): 'D'\n",
    "}\n",
    "\n",
    "moves = {\n",
    "    'U': (-1, 0),\n",
    "    'D': (1, 0),\n",
    "    'L': (0, -1),\n",
    "    'R': (0, 1)\n",
    "}\n",
    "\n",
    "answer0201 = \"\"\n",
    "answer0202 = \"\"\n",
    "small_position = (1, 1)\n",
    "big_position = (2, 0)\n",
    "\n",
    "for instruction in data:\n",
    "    for move in instruction:\n",
    "        new_small = (small_position[0] + moves[move][0], small_position[1] + moves[move][1])\n",
    "        new_big = (big_position[0] + moves[move][0], big_position[1] + moves[move][1])\n",
    "        small_position = new_small if new_small in small_keypad.keys() else small_position\n",
    "        big_position = new_big if new_big in big_keypad.keys() else big_position\n",
    "\n",
    "    answer0201 = answer0201 + small_keypad[small_position]\n",
    "    answer0202 = answer0202 + big_keypad[big_position]"
   ]
  },
  {
   "cell_type": "code",
   "execution_count": 29,
   "metadata": {},
   "outputs": [],
   "source": [
    "# Day 3\n",
    "with open(\"input_03.txt\") as f:\n",
    "    data = f.read().splitlines()\n",
    "\n",
    "answer0301 = 0\n",
    "answer0302 = 0\n",
    "\n",
    "column_triangles = [[], [], []]\n",
    "\n",
    "for line in data:\n",
    "    A, B, C = [int(x) for x in line.split()]  \n",
    "    if A + B > C and A + C > B and B + C > A:\n",
    "        answer0301 += 1\n",
    "    \n",
    "    column_triangles[0].append(A)\n",
    "    column_triangles[1].append(B)\n",
    "    column_triangles[2].append(C)\n",
    "    if len(column_triangles[0]) == 3:\n",
    "        for i in range(3):\n",
    "            A, B, C = column_triangles[i]\n",
    "            if A + B > C and A + C > B and B + C > A:\n",
    "                answer0302 += 1\n",
    "        column_triangles = [[], [], []]"
   ]
  },
  {
   "cell_type": "code",
   "execution_count": 30,
   "metadata": {},
   "outputs": [
    {
     "name": "stdout",
     "output_type": "stream",
     "text": [
      "361724\n"
     ]
    }
   ],
   "source": [
    "# Day 4\n",
    "with open(\"input_04.txt\") as f:\n",
    "    data = f.read().splitlines()\n",
    "\n",
    "answer0401 = 0\n",
    "answer0402 = 0\n",
    "\n",
    "for room in data:\n",
    "    letter_count = defaultdict(int)\n",
    "    checksum_check = ''\n",
    "    \n",
    "    encrypted_name, checksum = room.split(\"[\")\n",
    "    checksum = checksum[:-1]\n",
    "    sector_id = ''\n",
    "\n",
    "    for letter in encrypted_name:\n",
    "        if letter >= 'a' and letter <= 'z':\n",
    "            letter_count[letter] += 1\n",
    "        elif letter != '-':\n",
    "            sector_id += letter\n",
    "    sector_id = int(sector_id)\n",
    "    \n",
    "    while len(checksum_check) < 5:\n",
    "        top_values = sorted([x for x in letter_count.values()])\n",
    "        candidates = [k for k, v in letter_count.items() if v == top_values[-1]]\n",
    "        next_letter = sorted(candidates, reverse = True)[-1]\n",
    "        checksum_check = checksum_check + next_letter\n",
    "        letter_count[next_letter] = 0\n",
    "\n",
    "    if checksum == checksum_check:\n",
    "        answer0401 += sector_id\n",
    "\n",
    "print(answer0401)"
   ]
  },
  {
   "cell_type": "code",
   "execution_count": 31,
   "metadata": {},
   "outputs": [
    {
     "name": "stdout",
     "output_type": "stream",
     "text": [
      "óüïöüëúïöíñüûëøêü\n"
     ]
    }
   ],
   "source": [
    "add = 343\n",
    "word = ''\n",
    "text = 'qzmt-zixmtkozy-ivhz'\n",
    "for letter in text:\n",
    "    if letter == '-':\n",
    "        pass\n",
    "    else:\n",
    "        word = word + chr(ord(letter) + add % 26 * 26)\n",
    "\n",
    "print(word)"
   ]
  },
  {
   "cell_type": "code",
   "execution_count": 32,
   "metadata": {},
   "outputs": [
    {
     "name": "stdout",
     "output_type": "stream",
     "text": [
      "b\n"
     ]
    }
   ],
   "source": [
    "letter1 = 'a'\n",
    "letter2 = 'b'\n",
    "print(chr(ord(letter2) + 25 % 25))"
   ]
  },
  {
   "cell_type": "code",
   "execution_count": 33,
   "metadata": {},
   "outputs": [],
   "source": [
    "# Day 5\n",
    "with open(\"input_05.txt\") as f:\n",
    "    data = f.read().splitlines()\n",
    "\n",
    "answer0501 = 0\n",
    "answer0502 = 0"
   ]
  },
  {
   "cell_type": "code",
   "execution_count": 34,
   "metadata": {},
   "outputs": [],
   "source": [
    "# Day 6\n",
    "with open(\"input_06.txt\") as f:\n",
    "    data = f.read().splitlines()\n",
    "\n",
    "answer0601 = 0\n",
    "answer0602 = 0"
   ]
  },
  {
   "cell_type": "code",
   "execution_count": 35,
   "metadata": {},
   "outputs": [],
   "source": [
    "# Day 7\n",
    "with open(\"input_07.txt\") as f:\n",
    "    data = f.read().splitlines()\n",
    "\n",
    "answer0701 = 0\n",
    "answer0702 = 0"
   ]
  },
  {
   "cell_type": "code",
   "execution_count": 36,
   "metadata": {},
   "outputs": [],
   "source": [
    "# Day 8\n",
    "with open(\"input_08.txt\") as f:\n",
    "    data = f.read().splitlines()\n",
    "\n",
    "answer0801 = 0\n",
    "answer0802 = 0"
   ]
  },
  {
   "cell_type": "code",
   "execution_count": 37,
   "metadata": {},
   "outputs": [],
   "source": [
    "# Day 9\n",
    "with open(\"input_09.txt\") as f:\n",
    "    data = f.read().splitlines()\n",
    "\n",
    "answer0901 = 0\n",
    "answer0902 = 0"
   ]
  },
  {
   "cell_type": "code",
   "execution_count": 38,
   "metadata": {},
   "outputs": [],
   "source": [
    "# Day 10\n",
    "with open(\"input_10.txt\") as f:\n",
    "    data = f.read().splitlines()\n",
    "\n",
    "data = \"\"\"\n",
    "value 5 goes to bot 2\n",
    "bot 2 gives low to bot 1 and high to bot 0\n",
    "value 3 goes to bot 1\n",
    "bot 1 gives low to output 1 and high to bot 0\n",
    "bot 0 gives low to output 2 and high to output 0\n",
    "value 2 goes to bot 2\"\"\"\n",
    "\n",
    "answer1001 = 0\n",
    "answer1002 = 0"
   ]
  },
  {
   "cell_type": "code",
   "execution_count": 39,
   "metadata": {},
   "outputs": [],
   "source": [
    "# Day 11\n",
    "with open(\"input_11.txt\") as f:\n",
    "    data = f.read().splitlines()\n",
    "\n",
    "answer1101 = 0\n",
    "answer1102 = 0"
   ]
  },
  {
   "cell_type": "code",
   "execution_count": 40,
   "metadata": {},
   "outputs": [],
   "source": [
    "# Day 12\n",
    "with open(\"input_12.txt\") as f:\n",
    "    data = f.read().splitlines()\n",
    "\n",
    "answer1201 = 0\n",
    "answer1202 = 0"
   ]
  },
  {
   "cell_type": "code",
   "execution_count": 41,
   "metadata": {},
   "outputs": [],
   "source": [
    "# Day 13\n",
    "with open(\"input_13.txt\") as f:\n",
    "    data = f.read().splitlines()\n",
    "\n",
    "answer1301 = 0\n",
    "answer1302 = 0"
   ]
  },
  {
   "cell_type": "code",
   "execution_count": 42,
   "metadata": {},
   "outputs": [],
   "source": [
    "# Day 14\n",
    "with open(\"input_14.txt\") as f:\n",
    "    data = f.read().splitlines()\n",
    "\n",
    "answer1401 = 0\n",
    "answer1402 = 0"
   ]
  },
  {
   "cell_type": "code",
   "execution_count": 43,
   "metadata": {},
   "outputs": [],
   "source": [
    "# Day 15\n",
    "with open(\"input_15.txt\") as f:\n",
    "    data = f.read().splitlines()\n",
    "\n",
    "answer1501 = 0\n",
    "answer1502 = 0"
   ]
  },
  {
   "cell_type": "code",
   "execution_count": 44,
   "metadata": {},
   "outputs": [],
   "source": [
    "# Day 16\n",
    "with open(\"input_16.txt\") as f:\n",
    "    data = f.read().splitlines()\n",
    "\n",
    "answer1601 = 0\n",
    "answer1602 = 0"
   ]
  },
  {
   "cell_type": "code",
   "execution_count": 45,
   "metadata": {},
   "outputs": [],
   "source": [
    "# Day 17\n",
    "with open(\"input_17.txt\") as f:\n",
    "    data = f.read().splitlines()\n",
    "\n",
    "answer1701 = 0\n",
    "answer1702 = 0"
   ]
  },
  {
   "cell_type": "code",
   "execution_count": 46,
   "metadata": {},
   "outputs": [],
   "source": [
    "# Day 18\n",
    "with open(\"input_18.txt\") as f:\n",
    "    data = f.read().splitlines()\n",
    "\n",
    "answer1801 = 0\n",
    "answer1802 = 0"
   ]
  },
  {
   "cell_type": "code",
   "execution_count": 47,
   "metadata": {},
   "outputs": [],
   "source": [
    "# Day 19\n",
    "with open(\"input_19.txt\") as f:\n",
    "    data = f.read().splitlines()\n",
    "\n",
    "answer1901 = 0\n",
    "answer1902 = 0"
   ]
  },
  {
   "cell_type": "code",
   "execution_count": 48,
   "metadata": {},
   "outputs": [],
   "source": [
    "# Day 20\n",
    "with open(\"input_20.txt\") as f:\n",
    "    data = f.read().splitlines()\n",
    "\n",
    "answer2001 = 0\n",
    "answer2002 = 0"
   ]
  },
  {
   "cell_type": "code",
   "execution_count": 49,
   "metadata": {},
   "outputs": [],
   "source": [
    "# Day 21\n",
    "with open(\"input_21.txt\") as f:\n",
    "    data = f.read().splitlines()\n",
    "\n",
    "answer2101 = 0\n",
    "answer2102 = 0"
   ]
  },
  {
   "cell_type": "code",
   "execution_count": 50,
   "metadata": {},
   "outputs": [],
   "source": [
    "# Day 22\n",
    "with open(\"input_22.txt\") as f:\n",
    "    data = f.read().splitlines()\n",
    "\n",
    "answer2201 = 0\n",
    "answer2202 = 0"
   ]
  },
  {
   "cell_type": "code",
   "execution_count": 51,
   "metadata": {},
   "outputs": [],
   "source": [
    "# Day 23\n",
    "with open(\"input_23.txt\") as f:\n",
    "    data = f.read().splitlines()\n",
    "\n",
    "answer2301 = 0\n",
    "answer2302 = 0"
   ]
  },
  {
   "cell_type": "code",
   "execution_count": 52,
   "metadata": {},
   "outputs": [],
   "source": [
    "# Day 24\n",
    "with open(\"input_24.txt\") as f:\n",
    "    data = f.read().splitlines()\n",
    "\n",
    "answer2401 = 0\n",
    "answer2402 = 0"
   ]
  },
  {
   "cell_type": "code",
   "execution_count": 53,
   "metadata": {},
   "outputs": [],
   "source": [
    "# Day 25\n",
    "with open(\"input_25.txt\") as f:\n",
    "    data = f.read().splitlines()\n",
    "\n",
    "answer2501 = 0\n",
    "answer2502 = 0"
   ]
  },
  {
   "cell_type": "code",
   "execution_count": null,
   "metadata": {},
   "outputs": [
    {
     "name": "stdout",
     "output_type": "stream",
     "text": [
      "ANSWERS\n",
      "Day 01, part 01: 243\n",
      "Day 01, part 02: 142\n",
      "\n",
      "Day 02, part 01: 74921\n",
      "Day 02, part 02: A6B35\n",
      "\n",
      "Day 03, part 01: 869\n",
      "Day 03, part 02: 1544\n",
      "\n",
      "Day 04, part 01: 361724\n",
      "Day 04, part 02: 0\n",
      "\n",
      "Day 05, part 01: 0\n",
      "Day 05, part 02: 0\n",
      "\n",
      "Day 06, part 01: 0\n",
      "Day 06, part 02: 0\n",
      "\n",
      "Day 07, part 01: 0\n",
      "Day 07, part 02: 0\n",
      "\n",
      "Day 08, part 01: 0\n",
      "Day 08, part 02: 0\n",
      "\n",
      "Day 09, part 01: 0\n",
      "Day 09, part 02: 0\n",
      "\n",
      "Day 10, part 01: 0\n",
      "Day 10, part 02: 0\n",
      "\n",
      "Day 11, part 01: 0\n",
      "Day 11, part 02: 0\n",
      "\n",
      "Day 12, part 01: 0\n",
      "Day 12, part 02: 0\n",
      "\n",
      "Day 13, part 01: 0\n",
      "Day 13, part 02: 0\n",
      "\n",
      "Day 14, part 01: 0\n",
      "Day 14, part 02: 0\n",
      "\n",
      "Day 15, part 01: 0\n",
      "Day 15, part 02: 0\n",
      "\n",
      "Day 16, part 01: 0\n",
      "Day 16, part 02: 0\n",
      "\n",
      "Day 17, part 01: 0\n",
      "Day 17, part 02: 0\n",
      "\n",
      "Day 18, part 01: 0\n",
      "Day 18, part 02: 0\n",
      "\n",
      "Day 19, part 01: 0\n",
      "Day 19, part 02: 0\n",
      "\n",
      "Day 20, part 01: 0\n",
      "Day 20, part 02: 0\n",
      "\n",
      "Day 21, part 01: 0\n",
      "Day 21, part 02: 0\n",
      "\n",
      "Day 22, part 01: 0\n",
      "Day 22, part 02: 0\n",
      "\n",
      "Day 23, part 01: 0\n",
      "Day 23, part 02: 0\n",
      "\n",
      "Day 24, part 01: 0\n",
      "Day 24, part 02: 0\n",
      "\n",
      "Day 25, part 01: 0\n",
      "Day 25, part 02: 0\n",
      "\n"
     ]
    }
   ],
   "source": [
    "# Answers\n",
    "def pretty_answer(day, part):\n",
    "    day_text = (\"00\" + str(day))[-2:]\n",
    "    part_text = (\"00\" + str(part))[-2:]\n",
    "    answer_text = str(globals()[\"answer\" + day_text + part_text])\n",
    "    output_text = \"Day \" + day_text + \", part \" + part_text + \": \" + answer_text\n",
    "    print(output_text)\n",
    "\n",
    "for d in range(1, 26):\n",
    "    for p in range(1, 3):\n",
    "        pretty_answer(d, p)\n",
    "    print()"
   ]
  }
 ],
 "metadata": {
  "kernelspec": {
   "display_name": "Python 3",
   "language": "python",
   "name": "python3"
  },
  "language_info": {
   "codemirror_mode": {
    "name": "ipython",
    "version": 3
   },
   "file_extension": ".py",
   "mimetype": "text/x-python",
   "name": "python",
   "nbconvert_exporter": "python",
   "pygments_lexer": "ipython3",
   "version": "3.12.1"
  }
 },
 "nbformat": 4,
 "nbformat_minor": 2
}
