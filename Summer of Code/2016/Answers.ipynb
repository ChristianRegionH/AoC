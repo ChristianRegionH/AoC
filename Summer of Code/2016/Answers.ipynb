{
 "cells": [
  {
   "cell_type": "code",
   "execution_count": 1,
   "metadata": {},
   "outputs": [],
   "source": [
    "# Imports\n",
    "from collections import defaultdict"
   ]
  },
  {
   "cell_type": "code",
   "execution_count": 2,
   "metadata": {},
   "outputs": [],
   "source": [
    "# Day 1\n",
    "with open(\"input_01.txt\") as f:\n",
    "    data = f.read().splitlines()\n",
    "\n",
    "instructions = data[0].split(\", \")\n",
    "directions = [(0, 1), (1, 0), (0, -1), (-1, 0)]\n",
    "visited = {(0, 0)}\n",
    "position = ((0, 1), (0, 0))\n",
    "answer0102 = None\n",
    "\n",
    "for n, instruction in enumerate(instructions):\n",
    "    turn = instruction[0]\n",
    "    steps = int(instruction[1:])\n",
    "    current_direction = position[0]\n",
    "    \n",
    "    new_direction = directions[(directions.index(current_direction) + (1 if turn == 'R' else -1)) % 4]\n",
    "    for step in range(steps):\n",
    "        position = (new_direction, (position[1][0] + new_direction[0], position[1][1] + new_direction[1]))\n",
    "        if position[1] in visited and answer0102 is None:\n",
    "            answer0102 = abs(position[1][0]) + abs(position[1][1])\n",
    "        visited.add(position[1])\n",
    "\n",
    "answer0101 = abs(position[1][0]) + abs(position[1][1])"
   ]
  },
  {
   "cell_type": "code",
   "execution_count": 3,
   "metadata": {},
   "outputs": [],
   "source": [
    "# Day 2\n",
    "with open(\"input_02.txt\") as f:\n",
    "    data = f.read().splitlines()\n",
    "\n",
    "# (r, c)\n",
    "small_keypad = {\n",
    "    (0, 0): '1',\n",
    "    (0, 1): '2',\n",
    "    (0, 2): '3',\n",
    "    (1, 0): '4',\n",
    "    (1, 1): '5',\n",
    "    (1, 2): '6',\n",
    "    (2, 0): '7',\n",
    "    (2, 1): '8',\n",
    "    (2, 2): '9' \n",
    "}\n",
    "\n",
    "big_keypad = {\n",
    "    (0, 2): '1',\n",
    "    (1, 1): '2',\n",
    "    (1, 2): '3',\n",
    "    (1, 3): '4',\n",
    "    (2, 0): '5',\n",
    "    (2, 1): '6',\n",
    "    (2, 2): '7',\n",
    "    (2, 3): '8',\n",
    "    (2, 4): '9',\n",
    "    (3, 1): 'A',\n",
    "    (3, 2): 'B',\n",
    "    (3, 3): 'C',\n",
    "    (4, 2): 'D'\n",
    "}\n",
    "\n",
    "moves = {\n",
    "    'U': (-1, 0),\n",
    "    'D': (1, 0),\n",
    "    'L': (0, -1),\n",
    "    'R': (0, 1)\n",
    "}\n",
    "\n",
    "answer0201 = \"\"\n",
    "answer0202 = \"\"\n",
    "small_position = (1, 1)\n",
    "big_position = (2, 0)\n",
    "\n",
    "for instruction in data:\n",
    "    for move in instruction:\n",
    "        new_small = (small_position[0] + moves[move][0], small_position[1] + moves[move][1])\n",
    "        new_big = (big_position[0] + moves[move][0], big_position[1] + moves[move][1])\n",
    "        small_position = new_small if new_small in small_keypad.keys() else small_position\n",
    "        big_position = new_big if new_big in big_keypad.keys() else big_position\n",
    "\n",
    "    answer0201 = answer0201 + small_keypad[small_position]\n",
    "    answer0202 = answer0202 + big_keypad[big_position]"
   ]
  },
  {
   "cell_type": "code",
   "execution_count": 4,
   "metadata": {},
   "outputs": [],
   "source": [
    "# Day 3\n",
    "with open(\"input_03.txt\") as f:\n",
    "    data = f.read().splitlines()\n",
    "\n",
    "answer0301 = 0\n",
    "answer0302 = 0\n",
    "\n",
    "As = []\n",
    "Bs = []\n",
    "Cs = []\n",
    "for line in data:\n",
    "    A, B, C = [int(x) for x in line.split()]\n",
    "    if A + B > C and A + C > B and B + C > A:\n",
    "        answer0301 += 1\n",
    "    As.append(A)\n",
    "    Bs.append(B)\n",
    "    Cs.append(C)\n",
    "\n",
    "triangle = []\n",
    "#for column in [columnA, columnB, columnC]:"
   ]
  },
  {
   "cell_type": "code",
   "execution_count": 5,
   "metadata": {},
   "outputs": [],
   "source": [
    "# Day 4\n",
    "with open(\"input_04.txt\") as f:\n",
    "    data = f.read().splitlines()\n",
    "\n",
    "answer0401 = 0\n",
    "answer0402 = 0"
   ]
  },
  {
   "cell_type": "code",
   "execution_count": 6,
   "metadata": {},
   "outputs": [],
   "source": [
    "# Day 5\n",
    "with open(\"input_05.txt\") as f:\n",
    "    data = f.read().splitlines()\n",
    "\n",
    "answer0501 = 0\n",
    "answer0502 = 0"
   ]
  },
  {
   "cell_type": "code",
   "execution_count": 7,
   "metadata": {},
   "outputs": [],
   "source": [
    "# Day 6\n",
    "with open(\"input_06.txt\") as f:\n",
    "    data = f.read().splitlines()\n",
    "\n",
    "answer0601 = 0\n",
    "answer0602 = 0"
   ]
  },
  {
   "cell_type": "code",
   "execution_count": 8,
   "metadata": {},
   "outputs": [],
   "source": [
    "# Day 7\n",
    "with open(\"input_07.txt\") as f:\n",
    "    data = f.read().splitlines()\n",
    "\n",
    "answer0701 = 0\n",
    "answer0702 = 0"
   ]
  },
  {
   "cell_type": "code",
   "execution_count": 9,
   "metadata": {},
   "outputs": [],
   "source": [
    "# Day 8\n",
    "with open(\"input_08.txt\") as f:\n",
    "    data = f.read().splitlines()\n",
    "\n",
    "answer0801 = 0\n",
    "answer0802 = 0"
   ]
  },
  {
   "cell_type": "code",
   "execution_count": 10,
   "metadata": {},
   "outputs": [],
   "source": [
    "# Day 9\n",
    "with open(\"input_09.txt\") as f:\n",
    "    data = f.read().splitlines()\n",
    "\n",
    "answer0901 = 0\n",
    "answer0902 = 0"
   ]
  },
  {
   "cell_type": "code",
   "execution_count": null,
   "metadata": {},
   "outputs": [
    {
     "name": "stdout",
     "output_type": "stream",
     "text": [
      "ANSWERS\n",
      "Day 01, part 01: 243\n",
      "Day 01, part 02: 142\n",
      "Day 02, part 01: 74921\n",
      "Day 02, part 02: A6B35\n",
      "Day 03, part 01: 869\n",
      "Day 03, part 02: 0\n",
      "Day 04, part 01: 0\n",
      "Day 04, part 02: 0\n",
      "Day 05, part 01: 0\n",
      "Day 05, part 02: 0\n",
      "Day 06, part 01: 0\n",
      "Day 06, part 02: 0\n",
      "Day 07, part 01: 0\n",
      "Day 07, part 02: 0\n",
      "Day 08, part 01: 0\n",
      "Day 08, part 02: 0\n",
      "Day 09, part 01: 0\n",
      "Day 09, part 02: 0\n"
     ]
    }
   ],
   "source": [
    "# Answers\n",
    "def pretty_answer(day, part):\n",
    "    day_text = (\"00\" + str(day))[-2:]\n",
    "    part_text = (\"00\" + str(part))[-2:]\n",
    "    answer_text = str(globals()[\"answer\" + day_text + part_text])\n",
    "    output_text = \"Day \" + day_text + \", part \" + part_text + \": \" + answer_text\n",
    "    print(output_text)\n",
    "\n",
    "print(\"ANSWERS\")\n",
    "for d in range(1, 10):\n",
    "    for p in range(1, 3):\n",
    "        pretty_answer(d, p)\n",
    "    print()"
   ]
  }
 ],
 "metadata": {
  "kernelspec": {
   "display_name": "Python 3",
   "language": "python",
   "name": "python3"
  },
  "language_info": {
   "codemirror_mode": {
    "name": "ipython",
    "version": 3
   },
   "file_extension": ".py",
   "mimetype": "text/x-python",
   "name": "python",
   "nbconvert_exporter": "python",
   "pygments_lexer": "ipython3",
   "version": "3.12.1"
  }
 },
 "nbformat": 4,
 "nbformat_minor": 2
}
