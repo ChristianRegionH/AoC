{
 "cells": [
  {
   "cell_type": "code",
   "execution_count": 12,
   "metadata": {},
   "outputs": [
    {
     "name": "stdout",
     "output_type": "stream",
     "text": [
      "10\n",
      "46.0\n"
     ]
    }
   ],
   "source": [
    "machine = {'A': (94, 34), 'B': (22, 67), 'Prize': (8400, 5400)}\n",
    "target = (8400, 5400)\n",
    "target = (target[0] + 10000000000000, target[1] + 10000000000000)\n",
    "\n",
    "target0 = target[0]\n",
    "target1 = target[1]\n",
    "start = target0 // machine['A'][0]\n",
    "\n",
    "combinations = []\n",
    "for i in range(start):\n",
    "    remainder = target[0] - machine['A'][0] * (start - i)\n",
    "    if (remainder / machine['B'][0]).is_integer():\n",
    "\n",
    "print ( )"
   ]
  }
 ],
 "metadata": {
  "kernelspec": {
   "display_name": "Python 3",
   "language": "python",
   "name": "python3"
  },
  "language_info": {
   "codemirror_mode": {
    "name": "ipython",
    "version": 3
   },
   "file_extension": ".py",
   "mimetype": "text/x-python",
   "name": "python",
   "nbconvert_exporter": "python",
   "pygments_lexer": "ipython3",
   "version": "3.12.1"
  }
 },
 "nbformat": 4,
 "nbformat_minor": 2
}
