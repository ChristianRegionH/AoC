{
 "cells": [
  {
   "cell_type": "code",
   "execution_count": 109,
   "metadata": {},
   "outputs": [],
   "source": [
    "data = \"\"\"029A\"\"\""
   ]
  },
  {
   "cell_type": "code",
   "execution_count": 110,
   "metadata": {},
   "outputs": [],
   "source": [
    "data2 = \"\"\"869A\n",
    "180A\n",
    "596A\n",
    "965A\n",
    "973A\"\"\""
   ]
  },
  {
   "cell_type": "code",
   "execution_count": 111,
   "metadata": {},
   "outputs": [],
   "source": [
    "import itertools\n",
    "\n",
    "codes = list(map(list, data.splitlines()))\n",
    "\n",
    "dirs = {\n",
    "    \"^\": (-1, 0),\n",
    "    \"v\": (1, 0),\n",
    "    \"<\": (0, -1),\n",
    "    \">\": (0, 1)\n",
    "}\n",
    "\n",
    "numeric = {\n",
    "    \"7\": (0, 0),\n",
    "    \"8\": (0, 1),\n",
    "    \"9\": (0, 2),\n",
    "    \"4\": (1, 0),\n",
    "    \"5\": (1, 1),\n",
    "    \"6\": (1, 2),\n",
    "    \"1\": (2, 0),\n",
    "    \"2\": (2, 1),\n",
    "    \"3\": (2, 2),\n",
    "    \"0\": (3, 1),\n",
    "    \"A\": (3, 2)\n",
    "}\n",
    "\n",
    "directional = {\n",
    "    \"^\": (0, 1),\n",
    "    \"A\": (0, 2),\n",
    "    \"<\": (1, 0),\n",
    "    \"v\": (1, 1),\n",
    "    \">\": (1, 2)\n",
    "}\n",
    "\n",
    "positions = {\n",
    "    \"num\": \"A\",\n",
    "    \"dir1\": \"A\",\n",
    "    \"dir2\": \"A\"\n",
    "}\n",
    "\n",
    "def distance(keypad, p1, p2):\n",
    "    return abs(keypad[p1][0] - keypad[p2][0]) + abs(keypad[p1][1] - keypad[p2][1])\n",
    "\n",
    "def move_num(start, end):\n",
    "    return 1\n",
    "\n",
    "def move_dir(start, end): \n",
    "    return 1"
   ]
  },
  {
   "cell_type": "code",
   "execution_count": 112,
   "metadata": {},
   "outputs": [
    {
     "name": "stdout",
     "output_type": "stream",
     "text": [
      "['0', '2', '9', 'A']\n",
      "[['^'], ['v'], ['<'], ['>']]\n",
      "[['^', 'v'], ['^', '<'], ['^', '>'], ['v', '^'], ['v', '<'], ['v', '>'], ['<', '^'], ['<', 'v'], ['<', '>'], ['>', '^'], ['>', 'v'], ['>', '<']]\n",
      "[['^', 'v', '<'], ['^', 'v', '>'], ['^', '<', 'v'], ['^', '<', '>'], ['^', '>', 'v'], ['^', '>', '<'], ['v', '^', '<'], ['v', '^', '>'], ['v', '<', '^'], ['v', '<', '>'], ['v', '>', '^'], ['v', '>', '<'], ['<', '^', 'v'], ['<', '^', '>'], ['<', 'v', '^'], ['<', 'v', '>'], ['<', '>', '^'], ['<', '>', 'v'], ['>', '^', 'v'], ['>', '^', '<'], ['>', 'v', '^'], ['>', 'v', '<'], ['>', '<', '^'], ['>', '<', 'v']]\n",
      "[[]]\n"
     ]
    }
   ],
   "source": [
    "for code in codes:\n",
    "    print(code)\n",
    "\n",
    "    while code:\n",
    "        c = code.pop(0)\n",
    "\n",
    "        dist = distance(numeric, positions[\"num\"], c)\n",
    "\n",
    "        possible_paths = list(map(list, itertools.permutations(dirs.keys(), dist)))\n",
    "\n",
    "        print(possible_paths)"
   ]
  }
 ],
 "metadata": {
  "kernelspec": {
   "display_name": "Python 3",
   "language": "python",
   "name": "python3"
  },
  "language_info": {
   "codemirror_mode": {
    "name": "ipython",
    "version": 3
   },
   "file_extension": ".py",
   "mimetype": "text/x-python",
   "name": "python",
   "nbconvert_exporter": "python",
   "pygments_lexer": "ipython3",
   "version": "3.12.1"
  }
 },
 "nbformat": 4,
 "nbformat_minor": 2
}
