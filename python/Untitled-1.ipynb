{
 "cells": [
  {
   "cell_type": "code",
   "execution_count": 6,
   "metadata": {},
   "outputs": [
    {
     "name": "stdout",
     "output_type": "stream",
     "text": [
      "000001dbbfa3a5c83a2d506429c7b00e\n"
     ]
    }
   ],
   "source": [
    "import hashlib\n",
    "\n",
    "secret_key = \"abcdef\"\n",
    "\n",
    "for i in range(100):\n",
    "    new_secret_key = secret_key + str(i)\n",
    "    print(\"new_secret_key\")\n",
    "    m = hashlib.md5(secret_key.encode())\n",
    "    print(m.hexdigest())\n",
    "    print()"
   ]
  }
 ],
 "metadata": {
  "kernelspec": {
   "display_name": "Python 3",
   "language": "python",
   "name": "python3"
  },
  "language_info": {
   "codemirror_mode": {
    "name": "ipython",
    "version": 3
   },
   "file_extension": ".py",
   "mimetype": "text/x-python",
   "name": "python",
   "nbconvert_exporter": "python",
   "pygments_lexer": "ipython3",
   "version": "3.12.1"
  }
 },
 "nbformat": 4,
 "nbformat_minor": 2
}
