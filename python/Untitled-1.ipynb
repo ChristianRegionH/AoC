{
 "cells": [
  {
   "cell_type": "code",
   "execution_count": 5,
   "metadata": {},
   "outputs": [
    {
     "name": "stdout",
     "output_type": "stream",
     "text": [
      "defaultdict(<class 'int'>, {(3, 3): 1, (2, 2): 1, (1, 1): 1})\n"
     ]
    }
   ],
   "source": [
    "from collections import defaultdict\n",
    "\n",
    "grid = defaultdict(int)\n",
    "c1 = (7, 9)\n",
    "c2 = (9, 7)\n",
    "\n",
    "line_len = abs(c1[0] - c2[0]) + 1\n",
    "\n",
    "for i in range(line_len):\n",
    "    coords = (c1[0] + (1 if c2[0] > c1[0] else -1) * i, c1[1] + (1 if c2[1] > c1[1] else -1) * i)\n",
    "    grid[coords] = grid[coords] + 1\n",
    "\n",
    "print(grid)"
   ]
  }
 ],
 "metadata": {
  "kernelspec": {
   "display_name": "Python 3",
   "language": "python",
   "name": "python3"
  },
  "language_info": {
   "codemirror_mode": {
    "name": "ipython",
    "version": 3
   },
   "file_extension": ".py",
   "mimetype": "text/x-python",
   "name": "python",
   "nbconvert_exporter": "python",
   "pygments_lexer": "ipython3",
   "version": "3.12.1"
  }
 },
 "nbformat": 4,
 "nbformat_minor": 2
}
