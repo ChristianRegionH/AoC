{
 "cells": [
  {
   "cell_type": "code",
   "execution_count": 13,
   "metadata": {},
   "outputs": [
    {
     "ename": "AttributeError",
     "evalue": "'str' object has no attribute 'reversed'",
     "output_type": "error",
     "traceback": [
      "\u001b[1;31m---------------------------------------------------------------------------\u001b[0m",
      "\u001b[1;31mAttributeError\u001b[0m                            Traceback (most recent call last)",
      "Cell \u001b[1;32mIn[13], line 19\u001b[0m\n\u001b[0;32m     16\u001b[0m         \u001b[38;5;28;01mif\u001b[39;00m c \u001b[38;5;241m==\u001b[39m expected[\u001b[38;5;241m-\u001b[39m\u001b[38;5;241m1\u001b[39m]:\n\u001b[0;32m     17\u001b[0m             expected\u001b[38;5;241m.\u001b[39mpop()\n\u001b[1;32m---> 19\u001b[0m \u001b[38;5;28mprint\u001b[39m(\u001b[38;5;124;43m'\u001b[39;49m\u001b[38;5;124;43m'\u001b[39;49m\u001b[38;5;241;43m.\u001b[39;49m\u001b[43mjoin\u001b[49m\u001b[43m(\u001b[49m\u001b[43mexpected\u001b[49m\u001b[43m)\u001b[49m\u001b[38;5;241;43m.\u001b[39;49m\u001b[43mreversed\u001b[49m())\n",
      "\u001b[1;31mAttributeError\u001b[0m: 'str' object has no attribute 'reversed'"
     ]
    }
   ],
   "source": [
    "s = \"[({(<(())[]>[[{[]{<()<>>\"\n",
    "\n",
    "expected = []\n",
    "\n",
    "pairs = {\n",
    "    '[': ']',\n",
    "    '{': '}',\n",
    "    '(': ')',\n",
    "    '<': '>'\n",
    "}\n",
    "\n",
    "for c in s:\n",
    "    if c in ['[', '(', '{', '<']:\n",
    "        expected.append(pairs[c])\n",
    "    else:\n",
    "        if c == expected[-1]:\n",
    "            expected.pop()\n",
    "\n",
    "print(reversed(''.join(expected)))"
   ]
  }
 ],
 "metadata": {
  "kernelspec": {
   "display_name": "Python 3",
   "language": "python",
   "name": "python3"
  },
  "language_info": {
   "codemirror_mode": {
    "name": "ipython",
    "version": 3
   },
   "file_extension": ".py",
   "mimetype": "text/x-python",
   "name": "python",
   "nbconvert_exporter": "python",
   "pygments_lexer": "ipython3",
   "version": "3.12.1"
  }
 },
 "nbformat": 4,
 "nbformat_minor": 2
}
