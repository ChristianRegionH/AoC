{
 "cells": [
  {
   "cell_type": "code",
   "execution_count": 7,
   "metadata": {},
   "outputs": [
    {
     "name": "stdout",
     "output_type": "stream",
     "text": [
      "[('abcde', 'fghij'), ('abcde', 'klmno'), ('abcde', 'pqrst'), ('abcde', 'fguij'), ('abcde', 'axcye'), ('abcde', 'wvxyz'), ('fghij', 'klmno'), ('fghij', 'pqrst'), ('fghij', 'fguij'), ('fghij', 'axcye'), ('fghij', 'wvxyz'), ('klmno', 'pqrst'), ('klmno', 'fguij'), ('klmno', 'axcye'), ('klmno', 'wvxyz'), ('pqrst', 'fguij'), ('pqrst', 'axcye'), ('pqrst', 'wvxyz'), ('fguij', 'axcye'), ('fguij', 'wvxyz'), ('axcye', 'wvxyz')]\n"
     ]
    }
   ],
   "source": [
    "data = \"\"\"abcde\n",
    "fghij\n",
    "klmno\n",
    "pqrst\n",
    "fguij\n",
    "axcye\n",
    "wvxyz\"\"\".splitlines()\n",
    "\n",
    "res = []\n",
    "n = len(data)\n",
    "for i in range(n):\n",
    "    for j in range(i+1, n):\n",
    "        res.append((data[i], data[j]))\n",
    "\n",
    "print(res)"
   ]
  }
 ],
 "metadata": {
  "kernelspec": {
   "display_name": "Python 3",
   "language": "python",
   "name": "python3"
  },
  "language_info": {
   "codemirror_mode": {
    "name": "ipython",
    "version": 3
   },
   "file_extension": ".py",
   "mimetype": "text/x-python",
   "name": "python",
   "nbconvert_exporter": "python",
   "pygments_lexer": "ipython3",
   "version": "3.12.1"
  }
 },
 "nbformat": 4,
 "nbformat_minor": 2
}
