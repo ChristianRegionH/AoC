{
 "cells": [
  {
   "cell_type": "code",
   "execution_count": 39,
   "metadata": {},
   "outputs": [
    {
     "name": "stdout",
     "output_type": "stream",
     "text": [
      "1\n",
      "0\n"
     ]
    }
   ],
   "source": [
    "m = '111122'\n",
    "# 112233\n",
    "# 123444\n",
    "# 111122\n",
    "\n",
    "def test_password(input, part):\n",
    "    req1 = True if len(input) == 6 else False\n",
    "    req2 = any([input[i] == input[i + 1] for i in range(len(input) - 1)])\n",
    "    req3 = True if set([input[i] <= input[i + 1] for i in range(len(input) - 1)]) == {True} else False\n",
    "    faux = 'm' + input + 'm'\n",
    "    req4 = any([faux[i] == faux[i + 1] and faux[i] != faux[i - 1] and faux[i] != faux[i + 2] for i in range(len(input))])\n",
    "\n",
    "    if part == 1:\n",
    "        answer = 1 if req1 and req2 and req3 else 0\n",
    "    elif part == 2:\n",
    "        answer = 1 if req1 and req2 and req3 and req4 else 0\n",
    "\n",
    "    print(answer)\n",
    "\n",
    "test_password(m, 1)\n",
    "test_password(m, 2)"
   ]
  }
 ],
 "metadata": {
  "kernelspec": {
   "display_name": "Python 3",
   "language": "python",
   "name": "python3"
  },
  "language_info": {
   "codemirror_mode": {
    "name": "ipython",
    "version": 3
   },
   "file_extension": ".py",
   "mimetype": "text/x-python",
   "name": "python",
   "nbconvert_exporter": "python",
   "pygments_lexer": "ipython3",
   "version": "3.12.1"
  }
 },
 "nbformat": 4,
 "nbformat_minor": 2
}
