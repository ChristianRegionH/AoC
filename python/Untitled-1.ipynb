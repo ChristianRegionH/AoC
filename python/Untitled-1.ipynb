{
 "cells": [
  {
   "cell_type": "code",
   "execution_count": 76,
   "metadata": {},
   "outputs": [
    {
     "name": "stdout",
     "output_type": "stream",
     "text": [
      "1\n",
      "0\n",
      "0\n"
     ]
    }
   ],
   "source": [
    "from collections import defaultdict\n",
    "import re\n",
    "\n",
    "data = ['turn on 0,0 through 999,999', 'toggle 0,0 through 999,0', 'turn off 499,499 through 500,500']\n",
    "\n",
    "lights = defaultdict(int)\n",
    "for x in range(1000):\n",
    "    for y in range(1000):\n",
    "        lights[(x, y)] = 0\n",
    "\n",
    "for line in data:\n",
    "    instructions = re.findall(r\"(\\w+) (\\d+),(\\d+)\", line)\n",
    "    action = instructions[0][0]\n",
    "    coords1 = [int(x) for x in [instructions[0][1], instructions[0][2]]]\n",
    "    coords2 = [int(x) for x in [instructions[1][1], instructions[1][2]]]\n",
    "    for x in range(coords1[0], coords2[0] + 1):\n",
    "        for y in range(coords1[1], coords2[1] + 1):\n",
    "            if action == \"on\":\n",
    "                lights[(x, y)] = 1\n",
    "            elif action == \"off\":\n",
    "                lights[(x, y)] = 0\n",
    "            elif action == \"toggle\":\n",
    "                lights[(x, y)] = 1 - lights[(x, y)]\n",
    "\n"
   ]
  }
 ],
 "metadata": {
  "kernelspec": {
   "display_name": "Python 3",
   "language": "python",
   "name": "python3"
  },
  "language_info": {
   "codemirror_mode": {
    "name": "ipython",
    "version": 3
   },
   "file_extension": ".py",
   "mimetype": "text/x-python",
   "name": "python",
   "nbconvert_exporter": "python",
   "pygments_lexer": "ipython3",
   "version": "3.12.1"
  }
 },
 "nbformat": 4,
 "nbformat_minor": 2
}
