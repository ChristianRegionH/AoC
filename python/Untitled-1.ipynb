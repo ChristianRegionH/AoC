{
 "cells": [
  {
   "cell_type": "code",
   "execution_count": 32,
   "metadata": {},
   "outputs": [
    {
     "data": {
      "text/plain": [
       "'abcdefha'"
      ]
     },
     "execution_count": 32,
     "metadata": {},
     "output_type": "execute_result"
    }
   ],
   "source": [
    "password = \"abcdefgh\"\n",
    "\n",
    "def test_password(input):\n",
    "    chars = [ord(x) for x in input]\n",
    "    req1 = any([(chars[i] + 1 == chars[i + 1] and chars[i + 1] + 1 == chars[i + 2]) for i in range(len(chars) - 2)])\n",
    "    req2 = not any([x in 'iol' for x in input])\n",
    "    req3 = True if len(set([x for x in [input[i:i+2] for i in range(len(input) - 1)] if x[0] == x[1]])) >= 2 else False\n",
    "    print(req1)\n",
    "    print(req2)\n",
    "    print(req3)\n",
    "\n",
    "def next_password(input, n):\n",
    "    if input[n] == \"z\":\n",
    "        new_input = input[0:n] + \"a\" + input[n + 1:]\n",
    "        return next_password(new_input, n - 1)\n",
    "    else:\n",
    "        new_input = input[0:n] + chr(ord(input[n]) + 1) + input[n + 1:]\n",
    "        return new_input"
   ]
  }
 ],
 "metadata": {
  "kernelspec": {
   "display_name": "Python 3",
   "language": "python",
   "name": "python3"
  },
  "language_info": {
   "codemirror_mode": {
    "name": "ipython",
    "version": 3
   },
   "file_extension": ".py",
   "mimetype": "text/x-python",
   "name": "python",
   "nbconvert_exporter": "python",
   "pygments_lexer": "ipython3",
   "version": "3.12.1"
  }
 },
 "nbformat": 4,
 "nbformat_minor": 2
}
